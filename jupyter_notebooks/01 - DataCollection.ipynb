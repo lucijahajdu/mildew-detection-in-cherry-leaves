{
  "cells": [
    {
      "cell_type": "markdown",
      "metadata": {
        "id": "0aStgWSO0E0E"
      },
      "source": [
        "# **Data Collection**"
      ]
    },
    {
      "cell_type": "markdown",
      "metadata": {
        "id": "1eLEkw5O0ECa"
      },
      "source": [
        "## Objectives\n",
        "\n",
        "* Fetch data from Kaggle and prepare it for further processes.\n",
        "\n",
        "## Inputs\n",
        "\n",
        "*   Kaggle JSON file - the authentication token. \n",
        "\n",
        "## Outputs\n",
        "\n",
        "* Generate Dataset: inputs/datasets/cherry_dataset\n",
        "\n",
        "## Additional Comments | Insights | Conclusions\n",
        "\n",
        "\n",
        "* No additional comments.\n"
      ]
    },
    {
      "cell_type": "markdown",
      "metadata": {
        "id": "9uWZXH9LwoQg"
      },
      "source": [
        "---"
      ]
    },
    {
      "cell_type": "markdown",
      "metadata": {
        "id": "HpTc5-PJVH_i"
      },
      "source": [
        "# Import packages"
      ]
    },
    {
      "cell_type": "code",
      "execution_count": 17,
      "metadata": {},
      "outputs": [
        {
          "name": "stdout",
          "output_type": "stream",
          "text": [
            "Requirement already satisfied: numpy==1.23.0 in /home/gitpod/.pyenv/versions/3.8.12/lib/python3.8/site-packages (from -r /workspace/mildew-detection-in-cherry-leaves/requirements.txt (line 1)) (1.23.0)\n",
            "Requirement already satisfied: pandas==1.5.2 in /home/gitpod/.pyenv/versions/3.8.12/lib/python3.8/site-packages (from -r /workspace/mildew-detection-in-cherry-leaves/requirements.txt (line 2)) (1.5.2)\n",
            "Requirement already satisfied: matplotlib==3.3.1 in /home/gitpod/.pyenv/versions/3.8.12/lib/python3.8/site-packages (from -r /workspace/mildew-detection-in-cherry-leaves/requirements.txt (line 3)) (3.3.1)\n",
            "Requirement already satisfied: seaborn==0.11.0 in /home/gitpod/.pyenv/versions/3.8.12/lib/python3.8/site-packages (from -r /workspace/mildew-detection-in-cherry-leaves/requirements.txt (line 4)) (0.11.0)\n",
            "Requirement already satisfied: plotly==5.16.1 in /home/gitpod/.pyenv/versions/3.8.12/lib/python3.8/site-packages (from -r /workspace/mildew-detection-in-cherry-leaves/requirements.txt (line 5)) (5.16.1)\n",
            "Requirement already satisfied: streamlit==1.25.0 in /home/gitpod/.pyenv/versions/3.8.12/lib/python3.8/site-packages (from -r /workspace/mildew-detection-in-cherry-leaves/requirements.txt (line 6)) (1.25.0)\n",
            "Requirement already satisfied: scikit-learn==0.24.2 in /home/gitpod/.pyenv/versions/3.8.12/lib/python3.8/site-packages (from -r /workspace/mildew-detection-in-cherry-leaves/requirements.txt (line 7)) (0.24.2)\n",
            "Requirement already satisfied: tensorflow-cpu==2.13.0 in /home/gitpod/.pyenv/versions/3.8.12/lib/python3.8/site-packages (from -r /workspace/mildew-detection-in-cherry-leaves/requirements.txt (line 8)) (2.13.0)\n",
            "Requirement already satisfied: keras==2.13.1 in /home/gitpod/.pyenv/versions/3.8.12/lib/python3.8/site-packages (from -r /workspace/mildew-detection-in-cherry-leaves/requirements.txt (line 9)) (2.13.1)\n",
            "Requirement already satisfied: protobuf==4.24.1 in /home/gitpod/.pyenv/versions/3.8.12/lib/python3.8/site-packages (from -r /workspace/mildew-detection-in-cherry-leaves/requirements.txt (line 10)) (4.24.1)\n",
            "Requirement already satisfied: altair==4.2.2 in /home/gitpod/.pyenv/versions/3.8.12/lib/python3.8/site-packages (from -r /workspace/mildew-detection-in-cherry-leaves/requirements.txt (line 11)) (4.2.2)\n",
            "Requirement already satisfied: python-dateutil>=2.8.1 in /workspace/.pyenv_mirror/user/current/lib/python3.8/site-packages (from pandas==1.5.2->-r /workspace/mildew-detection-in-cherry-leaves/requirements.txt (line 2)) (2.9.0.post0)\n",
            "Requirement already satisfied: pytz>=2020.1 in /home/gitpod/.pyenv/versions/3.8.12/lib/python3.8/site-packages (from pandas==1.5.2->-r /workspace/mildew-detection-in-cherry-leaves/requirements.txt (line 2)) (2024.1)\n",
            "Requirement already satisfied: cycler>=0.10 in /home/gitpod/.pyenv/versions/3.8.12/lib/python3.8/site-packages (from matplotlib==3.3.1->-r /workspace/mildew-detection-in-cherry-leaves/requirements.txt (line 3)) (0.12.1)\n",
            "Requirement already satisfied: pyparsing!=2.0.4,!=2.1.2,!=2.1.6,>=2.0.3 in /home/gitpod/.pyenv/versions/3.8.12/lib/python3.8/site-packages (from matplotlib==3.3.1->-r /workspace/mildew-detection-in-cherry-leaves/requirements.txt (line 3)) (3.1.2)\n",
            "Requirement already satisfied: certifi>=2020.06.20 in /home/gitpod/.pyenv/versions/3.8.12/lib/python3.8/site-packages (from matplotlib==3.3.1->-r /workspace/mildew-detection-in-cherry-leaves/requirements.txt (line 3)) (2024.2.2)\n",
            "Requirement already satisfied: pillow>=6.2.0 in /home/gitpod/.pyenv/versions/3.8.12/lib/python3.8/site-packages (from matplotlib==3.3.1->-r /workspace/mildew-detection-in-cherry-leaves/requirements.txt (line 3)) (9.5.0)\n",
            "Requirement already satisfied: kiwisolver>=1.0.1 in /home/gitpod/.pyenv/versions/3.8.12/lib/python3.8/site-packages (from matplotlib==3.3.1->-r /workspace/mildew-detection-in-cherry-leaves/requirements.txt (line 3)) (1.4.5)\n",
            "Requirement already satisfied: scipy>=1.0 in /home/gitpod/.pyenv/versions/3.8.12/lib/python3.8/site-packages (from seaborn==0.11.0->-r /workspace/mildew-detection-in-cherry-leaves/requirements.txt (line 4)) (1.10.1)\n",
            "Requirement already satisfied: packaging in /home/gitpod/.pyenv/versions/3.8.12/lib/python3.8/site-packages (from plotly==5.16.1->-r /workspace/mildew-detection-in-cherry-leaves/requirements.txt (line 5)) (23.2)\n",
            "Requirement already satisfied: tenacity>=6.2.0 in /home/gitpod/.pyenv/versions/3.8.12/lib/python3.8/site-packages (from plotly==5.16.1->-r /workspace/mildew-detection-in-cherry-leaves/requirements.txt (line 5)) (8.2.3)\n",
            "Requirement already satisfied: tornado<7,>=6.0.3 in /workspace/.pyenv_mirror/user/current/lib/python3.8/site-packages (from streamlit==1.25.0->-r /workspace/mildew-detection-in-cherry-leaves/requirements.txt (line 6)) (6.4)\n",
            "Requirement already satisfied: cachetools<6,>=4.0 in /home/gitpod/.pyenv/versions/3.8.12/lib/python3.8/site-packages (from streamlit==1.25.0->-r /workspace/mildew-detection-in-cherry-leaves/requirements.txt (line 6)) (5.3.3)\n",
            "Requirement already satisfied: tzlocal<5,>=1.1 in /home/gitpod/.pyenv/versions/3.8.12/lib/python3.8/site-packages (from streamlit==1.25.0->-r /workspace/mildew-detection-in-cherry-leaves/requirements.txt (line 6)) (4.3.1)\n",
            "Requirement already satisfied: validators<1,>=0.2 in /home/gitpod/.pyenv/versions/3.8.12/lib/python3.8/site-packages (from streamlit==1.25.0->-r /workspace/mildew-detection-in-cherry-leaves/requirements.txt (line 6)) (0.24.0)\n",
            "Requirement already satisfied: rich<14,>=10.14.0 in /home/gitpod/.pyenv/versions/3.8.12/lib/python3.8/site-packages (from streamlit==1.25.0->-r /workspace/mildew-detection-in-cherry-leaves/requirements.txt (line 6)) (13.7.1)\n",
            "Requirement already satisfied: blinker<2,>=1.0.0 in /home/gitpod/.pyenv/versions/3.8.12/lib/python3.8/site-packages (from streamlit==1.25.0->-r /workspace/mildew-detection-in-cherry-leaves/requirements.txt (line 6)) (1.7.0)\n",
            "Requirement already satisfied: pyarrow>=6.0 in /home/gitpod/.pyenv/versions/3.8.12/lib/python3.8/site-packages (from streamlit==1.25.0->-r /workspace/mildew-detection-in-cherry-leaves/requirements.txt (line 6)) (15.0.2)\n",
            "Requirement already satisfied: click<9,>=7.0 in /home/gitpod/.pyenv/versions/3.8.12/lib/python3.8/site-packages (from streamlit==1.25.0->-r /workspace/mildew-detection-in-cherry-leaves/requirements.txt (line 6)) (8.1.7)\n",
            "Requirement already satisfied: requests<3,>=2.18 in /home/gitpod/.pyenv/versions/3.8.12/lib/python3.8/site-packages (from streamlit==1.25.0->-r /workspace/mildew-detection-in-cherry-leaves/requirements.txt (line 6)) (2.31.0)\n",
            "Requirement already satisfied: toml<2,>=0.10.1 in /home/gitpod/.pyenv/versions/3.8.12/lib/python3.8/site-packages (from streamlit==1.25.0->-r /workspace/mildew-detection-in-cherry-leaves/requirements.txt (line 6)) (0.10.2)\n",
            "Requirement already satisfied: watchdog>=2.1.5 in /home/gitpod/.pyenv/versions/3.8.12/lib/python3.8/site-packages (from streamlit==1.25.0->-r /workspace/mildew-detection-in-cherry-leaves/requirements.txt (line 6)) (4.0.0)\n",
            "Requirement already satisfied: pydeck<1,>=0.8 in /home/gitpod/.pyenv/versions/3.8.12/lib/python3.8/site-packages (from streamlit==1.25.0->-r /workspace/mildew-detection-in-cherry-leaves/requirements.txt (line 6)) (0.8.0)\n",
            "Requirement already satisfied: pympler<2,>=0.9 in /home/gitpod/.pyenv/versions/3.8.12/lib/python3.8/site-packages (from streamlit==1.25.0->-r /workspace/mildew-detection-in-cherry-leaves/requirements.txt (line 6)) (1.0.1)\n",
            "Requirement already satisfied: typing-extensions<5,>=4.1.0 in /home/gitpod/.pyenv/versions/3.8.12/lib/python3.8/site-packages (from streamlit==1.25.0->-r /workspace/mildew-detection-in-cherry-leaves/requirements.txt (line 6)) (4.5.0)\n",
            "Requirement already satisfied: gitpython!=3.1.19,<4,>=3.0.7 in /home/gitpod/.pyenv/versions/3.8.12/lib/python3.8/site-packages (from streamlit==1.25.0->-r /workspace/mildew-detection-in-cherry-leaves/requirements.txt (line 6)) (3.1.42)\n",
            "Requirement already satisfied: importlib-metadata<7,>=1.4 in /home/gitpod/.pyenv/versions/3.8.12/lib/python3.8/site-packages (from streamlit==1.25.0->-r /workspace/mildew-detection-in-cherry-leaves/requirements.txt (line 6)) (6.11.0)\n",
            "Requirement already satisfied: threadpoolctl>=2.0.0 in /home/gitpod/.pyenv/versions/3.8.12/lib/python3.8/site-packages (from scikit-learn==0.24.2->-r /workspace/mildew-detection-in-cherry-leaves/requirements.txt (line 7)) (3.4.0)\n",
            "Requirement already satisfied: joblib>=0.11 in /home/gitpod/.pyenv/versions/3.8.12/lib/python3.8/site-packages (from scikit-learn==0.24.2->-r /workspace/mildew-detection-in-cherry-leaves/requirements.txt (line 7)) (1.3.2)\n",
            "Requirement already satisfied: libclang>=13.0.0 in /home/gitpod/.pyenv/versions/3.8.12/lib/python3.8/site-packages (from tensorflow-cpu==2.13.0->-r /workspace/mildew-detection-in-cherry-leaves/requirements.txt (line 8)) (18.1.1)\n",
            "Requirement already satisfied: tensorflow-io-gcs-filesystem>=0.23.1 in /home/gitpod/.pyenv/versions/3.8.12/lib/python3.8/site-packages (from tensorflow-cpu==2.13.0->-r /workspace/mildew-detection-in-cherry-leaves/requirements.txt (line 8)) (0.34.0)\n",
            "Requirement already satisfied: tensorflow-estimator<2.14,>=2.13.0 in /home/gitpod/.pyenv/versions/3.8.12/lib/python3.8/site-packages (from tensorflow-cpu==2.13.0->-r /workspace/mildew-detection-in-cherry-leaves/requirements.txt (line 8)) (2.13.0)\n",
            "Requirement already satisfied: opt-einsum>=2.3.2 in /home/gitpod/.pyenv/versions/3.8.12/lib/python3.8/site-packages (from tensorflow-cpu==2.13.0->-r /workspace/mildew-detection-in-cherry-leaves/requirements.txt (line 8)) (3.3.0)\n",
            "Requirement already satisfied: setuptools in /home/gitpod/.pyenv/versions/3.8.12/lib/python3.8/site-packages (from tensorflow-cpu==2.13.0->-r /workspace/mildew-detection-in-cherry-leaves/requirements.txt (line 8)) (56.0.0)\n",
            "Requirement already satisfied: absl-py>=1.0.0 in /home/gitpod/.pyenv/versions/3.8.12/lib/python3.8/site-packages (from tensorflow-cpu==2.13.0->-r /workspace/mildew-detection-in-cherry-leaves/requirements.txt (line 8)) (2.1.0)\n",
            "Requirement already satisfied: wrapt>=1.11.0 in /home/gitpod/.pyenv/versions/3.8.12/lib/python3.8/site-packages (from tensorflow-cpu==2.13.0->-r /workspace/mildew-detection-in-cherry-leaves/requirements.txt (line 8)) (1.16.0)\n",
            "Requirement already satisfied: astunparse>=1.6.0 in /home/gitpod/.pyenv/versions/3.8.12/lib/python3.8/site-packages (from tensorflow-cpu==2.13.0->-r /workspace/mildew-detection-in-cherry-leaves/requirements.txt (line 8)) (1.6.3)\n",
            "Requirement already satisfied: gast<=0.4.0,>=0.2.1 in /home/gitpod/.pyenv/versions/3.8.12/lib/python3.8/site-packages (from tensorflow-cpu==2.13.0->-r /workspace/mildew-detection-in-cherry-leaves/requirements.txt (line 8)) (0.4.0)\n",
            "Requirement already satisfied: termcolor>=1.1.0 in /home/gitpod/.pyenv/versions/3.8.12/lib/python3.8/site-packages (from tensorflow-cpu==2.13.0->-r /workspace/mildew-detection-in-cherry-leaves/requirements.txt (line 8)) (2.4.0)\n",
            "Requirement already satisfied: grpcio<2.0,>=1.24.3 in /home/gitpod/.pyenv/versions/3.8.12/lib/python3.8/site-packages (from tensorflow-cpu==2.13.0->-r /workspace/mildew-detection-in-cherry-leaves/requirements.txt (line 8)) (1.62.1)\n",
            "Requirement already satisfied: flatbuffers>=23.1.21 in /home/gitpod/.pyenv/versions/3.8.12/lib/python3.8/site-packages (from tensorflow-cpu==2.13.0->-r /workspace/mildew-detection-in-cherry-leaves/requirements.txt (line 8)) (24.3.25)\n",
            "Requirement already satisfied: h5py>=2.9.0 in /home/gitpod/.pyenv/versions/3.8.12/lib/python3.8/site-packages (from tensorflow-cpu==2.13.0->-r /workspace/mildew-detection-in-cherry-leaves/requirements.txt (line 8)) (3.10.0)\n",
            "Requirement already satisfied: tensorboard<2.14,>=2.13 in /home/gitpod/.pyenv/versions/3.8.12/lib/python3.8/site-packages (from tensorflow-cpu==2.13.0->-r /workspace/mildew-detection-in-cherry-leaves/requirements.txt (line 8)) (2.13.0)\n",
            "Requirement already satisfied: google-pasta>=0.1.1 in /home/gitpod/.pyenv/versions/3.8.12/lib/python3.8/site-packages (from tensorflow-cpu==2.13.0->-r /workspace/mildew-detection-in-cherry-leaves/requirements.txt (line 8)) (0.2.0)\n",
            "Requirement already satisfied: six>=1.12.0 in /workspace/.pyenv_mirror/user/current/lib/python3.8/site-packages (from tensorflow-cpu==2.13.0->-r /workspace/mildew-detection-in-cherry-leaves/requirements.txt (line 8)) (1.16.0)\n",
            "Requirement already satisfied: jinja2 in /home/gitpod/.pyenv/versions/3.8.12/lib/python3.8/site-packages (from altair==4.2.2->-r /workspace/mildew-detection-in-cherry-leaves/requirements.txt (line 11)) (3.1.3)\n",
            "Requirement already satisfied: jsonschema>=3.0 in /home/gitpod/.pyenv/versions/3.8.12/lib/python3.8/site-packages (from altair==4.2.2->-r /workspace/mildew-detection-in-cherry-leaves/requirements.txt (line 11)) (4.21.1)\n",
            "Requirement already satisfied: toolz in /home/gitpod/.pyenv/versions/3.8.12/lib/python3.8/site-packages (from altair==4.2.2->-r /workspace/mildew-detection-in-cherry-leaves/requirements.txt (line 11)) (0.12.1)\n",
            "Requirement already satisfied: entrypoints in /home/gitpod/.pyenv/versions/3.8.12/lib/python3.8/site-packages (from altair==4.2.2->-r /workspace/mildew-detection-in-cherry-leaves/requirements.txt (line 11)) (0.4)\n",
            "Requirement already satisfied: wheel<1.0,>=0.23.0 in /home/gitpod/.pyenv/versions/3.8.12/lib/python3.8/site-packages (from astunparse>=1.6.0->tensorflow-cpu==2.13.0->-r /workspace/mildew-detection-in-cherry-leaves/requirements.txt (line 8)) (0.43.0)\n",
            "Requirement already satisfied: gitdb<5,>=4.0.1 in /home/gitpod/.pyenv/versions/3.8.12/lib/python3.8/site-packages (from gitpython!=3.1.19,<4,>=3.0.7->streamlit==1.25.0->-r /workspace/mildew-detection-in-cherry-leaves/requirements.txt (line 6)) (4.0.11)\n",
            "Requirement already satisfied: smmap<6,>=3.0.1 in /home/gitpod/.pyenv/versions/3.8.12/lib/python3.8/site-packages (from gitdb<5,>=4.0.1->gitpython!=3.1.19,<4,>=3.0.7->streamlit==1.25.0->-r /workspace/mildew-detection-in-cherry-leaves/requirements.txt (line 6)) (5.0.1)\n",
            "Requirement already satisfied: zipp>=0.5 in /workspace/.pyenv_mirror/user/current/lib/python3.8/site-packages (from importlib-metadata<7,>=1.4->streamlit==1.25.0->-r /workspace/mildew-detection-in-cherry-leaves/requirements.txt (line 6)) (3.18.1)\n",
            "Requirement already satisfied: rpds-py>=0.7.1 in /home/gitpod/.pyenv/versions/3.8.12/lib/python3.8/site-packages (from jsonschema>=3.0->altair==4.2.2->-r /workspace/mildew-detection-in-cherry-leaves/requirements.txt (line 11)) (0.18.0)\n",
            "Requirement already satisfied: pkgutil-resolve-name>=1.3.10 in /home/gitpod/.pyenv/versions/3.8.12/lib/python3.8/site-packages (from jsonschema>=3.0->altair==4.2.2->-r /workspace/mildew-detection-in-cherry-leaves/requirements.txt (line 11)) (1.3.10)\n",
            "Requirement already satisfied: jsonschema-specifications>=2023.03.6 in /home/gitpod/.pyenv/versions/3.8.12/lib/python3.8/site-packages (from jsonschema>=3.0->altair==4.2.2->-r /workspace/mildew-detection-in-cherry-leaves/requirements.txt (line 11)) (2023.12.1)\n",
            "Requirement already satisfied: referencing>=0.28.4 in /home/gitpod/.pyenv/versions/3.8.12/lib/python3.8/site-packages (from jsonschema>=3.0->altair==4.2.2->-r /workspace/mildew-detection-in-cherry-leaves/requirements.txt (line 11)) (0.34.0)\n",
            "Requirement already satisfied: attrs>=22.2.0 in /home/gitpod/.pyenv/versions/3.8.12/lib/python3.8/site-packages (from jsonschema>=3.0->altair==4.2.2->-r /workspace/mildew-detection-in-cherry-leaves/requirements.txt (line 11)) (23.2.0)\n",
            "Requirement already satisfied: importlib-resources>=1.4.0 in /home/gitpod/.pyenv/versions/3.8.12/lib/python3.8/site-packages (from jsonschema>=3.0->altair==4.2.2->-r /workspace/mildew-detection-in-cherry-leaves/requirements.txt (line 11)) (6.4.0)\n",
            "Requirement already satisfied: MarkupSafe>=2.0 in /home/gitpod/.pyenv/versions/3.8.12/lib/python3.8/site-packages (from jinja2->altair==4.2.2->-r /workspace/mildew-detection-in-cherry-leaves/requirements.txt (line 11)) (2.1.5)\n",
            "Requirement already satisfied: urllib3<3,>=1.21.1 in /home/gitpod/.pyenv/versions/3.8.12/lib/python3.8/site-packages (from requests<3,>=2.18->streamlit==1.25.0->-r /workspace/mildew-detection-in-cherry-leaves/requirements.txt (line 6)) (2.2.1)\n",
            "Requirement already satisfied: charset-normalizer<4,>=2 in /home/gitpod/.pyenv/versions/3.8.12/lib/python3.8/site-packages (from requests<3,>=2.18->streamlit==1.25.0->-r /workspace/mildew-detection-in-cherry-leaves/requirements.txt (line 6)) (3.3.2)\n",
            "Requirement already satisfied: idna<4,>=2.5 in /home/gitpod/.pyenv/versions/3.8.12/lib/python3.8/site-packages (from requests<3,>=2.18->streamlit==1.25.0->-r /workspace/mildew-detection-in-cherry-leaves/requirements.txt (line 6)) (3.6)\n",
            "Requirement already satisfied: pygments<3.0.0,>=2.13.0 in /workspace/.pyenv_mirror/user/current/lib/python3.8/site-packages (from rich<14,>=10.14.0->streamlit==1.25.0->-r /workspace/mildew-detection-in-cherry-leaves/requirements.txt (line 6)) (2.17.2)\n",
            "Requirement already satisfied: markdown-it-py>=2.2.0 in /home/gitpod/.pyenv/versions/3.8.12/lib/python3.8/site-packages (from rich<14,>=10.14.0->streamlit==1.25.0->-r /workspace/mildew-detection-in-cherry-leaves/requirements.txt (line 6)) (3.0.0)\n",
            "Requirement already satisfied: mdurl~=0.1 in /home/gitpod/.pyenv/versions/3.8.12/lib/python3.8/site-packages (from markdown-it-py>=2.2.0->rich<14,>=10.14.0->streamlit==1.25.0->-r /workspace/mildew-detection-in-cherry-leaves/requirements.txt (line 6)) (0.1.2)\n",
            "Requirement already satisfied: google-auth<3,>=1.6.3 in /home/gitpod/.pyenv/versions/3.8.12/lib/python3.8/site-packages (from tensorboard<2.14,>=2.13->tensorflow-cpu==2.13.0->-r /workspace/mildew-detection-in-cherry-leaves/requirements.txt (line 8)) (2.29.0)\n",
            "Requirement already satisfied: markdown>=2.6.8 in /home/gitpod/.pyenv/versions/3.8.12/lib/python3.8/site-packages (from tensorboard<2.14,>=2.13->tensorflow-cpu==2.13.0->-r /workspace/mildew-detection-in-cherry-leaves/requirements.txt (line 8)) (3.6)\n",
            "Requirement already satisfied: tensorboard-data-server<0.8.0,>=0.7.0 in /home/gitpod/.pyenv/versions/3.8.12/lib/python3.8/site-packages (from tensorboard<2.14,>=2.13->tensorflow-cpu==2.13.0->-r /workspace/mildew-detection-in-cherry-leaves/requirements.txt (line 8)) (0.7.2)\n",
            "Requirement already satisfied: werkzeug>=1.0.1 in /home/gitpod/.pyenv/versions/3.8.12/lib/python3.8/site-packages (from tensorboard<2.14,>=2.13->tensorflow-cpu==2.13.0->-r /workspace/mildew-detection-in-cherry-leaves/requirements.txt (line 8)) (3.0.1)\n",
            "Requirement already satisfied: google-auth-oauthlib<1.1,>=0.5 in /home/gitpod/.pyenv/versions/3.8.12/lib/python3.8/site-packages (from tensorboard<2.14,>=2.13->tensorflow-cpu==2.13.0->-r /workspace/mildew-detection-in-cherry-leaves/requirements.txt (line 8)) (1.0.0)\n",
            "Requirement already satisfied: pyasn1-modules>=0.2.1 in /home/gitpod/.pyenv/versions/3.8.12/lib/python3.8/site-packages (from google-auth<3,>=1.6.3->tensorboard<2.14,>=2.13->tensorflow-cpu==2.13.0->-r /workspace/mildew-detection-in-cherry-leaves/requirements.txt (line 8)) (0.4.0)\n",
            "Requirement already satisfied: rsa<5,>=3.1.4 in /home/gitpod/.pyenv/versions/3.8.12/lib/python3.8/site-packages (from google-auth<3,>=1.6.3->tensorboard<2.14,>=2.13->tensorflow-cpu==2.13.0->-r /workspace/mildew-detection-in-cherry-leaves/requirements.txt (line 8)) (4.9)\n",
            "Requirement already satisfied: requests-oauthlib>=0.7.0 in /home/gitpod/.pyenv/versions/3.8.12/lib/python3.8/site-packages (from google-auth-oauthlib<1.1,>=0.5->tensorboard<2.14,>=2.13->tensorflow-cpu==2.13.0->-r /workspace/mildew-detection-in-cherry-leaves/requirements.txt (line 8)) (2.0.0)\n",
            "Requirement already satisfied: pyasn1<0.7.0,>=0.4.6 in /home/gitpod/.pyenv/versions/3.8.12/lib/python3.8/site-packages (from pyasn1-modules>=0.2.1->google-auth<3,>=1.6.3->tensorboard<2.14,>=2.13->tensorflow-cpu==2.13.0->-r /workspace/mildew-detection-in-cherry-leaves/requirements.txt (line 8)) (0.6.0)\n",
            "Requirement already satisfied: oauthlib>=3.0.0 in /home/gitpod/.pyenv/versions/3.8.12/lib/python3.8/site-packages (from requests-oauthlib>=0.7.0->google-auth-oauthlib<1.1,>=0.5->tensorboard<2.14,>=2.13->tensorflow-cpu==2.13.0->-r /workspace/mildew-detection-in-cherry-leaves/requirements.txt (line 8)) (3.2.2)\n",
            "Requirement already satisfied: backports.zoneinfo in /home/gitpod/.pyenv/versions/3.8.12/lib/python3.8/site-packages (from tzlocal<5,>=1.1->streamlit==1.25.0->-r /workspace/mildew-detection-in-cherry-leaves/requirements.txt (line 6)) (0.2.1)\n",
            "Requirement already satisfied: pytz-deprecation-shim in /home/gitpod/.pyenv/versions/3.8.12/lib/python3.8/site-packages (from tzlocal<5,>=1.1->streamlit==1.25.0->-r /workspace/mildew-detection-in-cherry-leaves/requirements.txt (line 6)) (0.1.0.post0)\n",
            "Requirement already satisfied: tzdata in /home/gitpod/.pyenv/versions/3.8.12/lib/python3.8/site-packages (from pytz-deprecation-shim->tzlocal<5,>=1.1->streamlit==1.25.0->-r /workspace/mildew-detection-in-cherry-leaves/requirements.txt (line 6)) (2024.1)\n",
            "\u001b[33mWARNING: You are using pip version 21.1.1; however, version 24.0 is available.\n",
            "You should consider upgrading via the '/home/gitpod/.pyenv/versions/3.8.12/bin/python -m pip install --upgrade pip' command.\u001b[0m\n",
            "Note: you may need to restart the kernel to use updated packages.\n"
          ]
        }
      ],
      "source": [
        "%pip install -r /workspace/mildew-detection-in-cherry-leaves/requirements.txt"
      ]
    },
    {
      "cell_type": "code",
      "execution_count": 18,
      "metadata": {
        "id": "7AR_SEgkmYDC"
      },
      "outputs": [],
      "source": [
        "import numpy\n",
        "import os"
      ]
    },
    {
      "cell_type": "markdown",
      "metadata": {
        "id": "XMkFbSwxmYDC"
      },
      "source": [
        "## Change the working directory"
      ]
    },
    {
      "cell_type": "code",
      "execution_count": 19,
      "metadata": {
        "id": "8SooBUDWVIQK"
      },
      "outputs": [
        {
          "data": {
            "text/plain": [
              "'/workspace/mildew-detection-in-cherry-leaves'"
            ]
          },
          "execution_count": 19,
          "metadata": {},
          "output_type": "execute_result"
        }
      ],
      "source": [
        "current_dir = os.getcwd()\n",
        "current_dir"
      ]
    },
    {
      "cell_type": "code",
      "execution_count": 20,
      "metadata": {
        "id": "EQ7j8jHhmYDD"
      },
      "outputs": [
        {
          "name": "stdout",
          "output_type": "stream",
          "text": [
            "You set a new current directory\n"
          ]
        }
      ],
      "source": [
        "os.chdir('/workspace/mildew-detection-in-cherry-leaves')\n",
        "print(\"You set a new current directory\")"
      ]
    },
    {
      "cell_type": "code",
      "execution_count": 21,
      "metadata": {
        "id": "b107Zs3TmYDD"
      },
      "outputs": [
        {
          "data": {
            "text/plain": [
              "'/workspace/mildew-detection-in-cherry-leaves'"
            ]
          },
          "execution_count": 21,
          "metadata": {},
          "output_type": "execute_result"
        }
      ],
      "source": [
        "\n",
        "current_dir = os.getcwd()\n",
        "current_dir"
      ]
    },
    {
      "cell_type": "markdown",
      "metadata": {
        "id": "CoVu2lp8vZi1"
      },
      "source": [
        "# Install Kaggle"
      ]
    },
    {
      "cell_type": "code",
      "execution_count": 22,
      "metadata": {
        "id": "zhrMBzbVvZi2"
      },
      "outputs": [
        {
          "name": "stdout",
          "output_type": "stream",
          "text": [
            "Requirement already satisfied: kaggle==1.5.12 in /home/gitpod/.pyenv/versions/3.8.12/lib/python3.8/site-packages (1.5.12)\n",
            "Requirement already satisfied: python-slugify in /home/gitpod/.pyenv/versions/3.8.12/lib/python3.8/site-packages (from kaggle==1.5.12) (8.0.4)\n",
            "Requirement already satisfied: requests in /home/gitpod/.pyenv/versions/3.8.12/lib/python3.8/site-packages (from kaggle==1.5.12) (2.31.0)\n",
            "Requirement already satisfied: tqdm in /home/gitpod/.pyenv/versions/3.8.12/lib/python3.8/site-packages (from kaggle==1.5.12) (4.66.2)\n",
            "Requirement already satisfied: urllib3 in /home/gitpod/.pyenv/versions/3.8.12/lib/python3.8/site-packages (from kaggle==1.5.12) (2.2.1)\n",
            "Requirement already satisfied: python-dateutil in /workspace/.pyenv_mirror/user/current/lib/python3.8/site-packages (from kaggle==1.5.12) (2.9.0.post0)\n",
            "Requirement already satisfied: six>=1.10 in /workspace/.pyenv_mirror/user/current/lib/python3.8/site-packages (from kaggle==1.5.12) (1.16.0)\n",
            "Requirement already satisfied: certifi in /home/gitpod/.pyenv/versions/3.8.12/lib/python3.8/site-packages (from kaggle==1.5.12) (2024.2.2)\n",
            "Requirement already satisfied: text-unidecode>=1.3 in /home/gitpod/.pyenv/versions/3.8.12/lib/python3.8/site-packages (from python-slugify->kaggle==1.5.12) (1.3)\n",
            "Requirement already satisfied: idna<4,>=2.5 in /home/gitpod/.pyenv/versions/3.8.12/lib/python3.8/site-packages (from requests->kaggle==1.5.12) (3.6)\n",
            "Requirement already satisfied: charset-normalizer<4,>=2 in /home/gitpod/.pyenv/versions/3.8.12/lib/python3.8/site-packages (from requests->kaggle==1.5.12) (3.3.2)\n",
            "\u001b[33mWARNING: You are using pip version 21.1.1; however, version 24.0 is available.\n",
            "You should consider upgrading via the '/home/gitpod/.pyenv/versions/3.8.12/bin/python -m pip install --upgrade pip' command.\u001b[0m\n",
            "Note: you may need to restart the kernel to use updated packages.\n"
          ]
        }
      ],
      "source": [
        "# install kaggle package\n",
        "%pip install kaggle==1.5.12"
      ]
    },
    {
      "cell_type": "markdown",
      "metadata": {
        "id": "qRwFQLlmwrl9"
      },
      "source": [
        "---"
      ]
    },
    {
      "cell_type": "markdown",
      "metadata": {
        "id": "x9BaDpLjM-rP"
      },
      "source": [
        "Run the cell below **to change the Kaggle configuration directory to the current working directory and set permissions for the Kaggle authentication JSON**."
      ]
    },
    {
      "cell_type": "code",
      "execution_count": 23,
      "metadata": {
        "id": "LVlh18YgbyEg"
      },
      "outputs": [],
      "source": [
        "os.environ['KAGGLE_CONFIG_DIR'] = os.getcwd()\n",
        "! chmod 600 kaggle.json"
      ]
    },
    {
      "cell_type": "markdown",
      "metadata": {
        "id": "ySAC0yIkNJm4"
      },
      "source": [
        "* Get the dataset path from the [Kaggle URL](https://www.kaggle.com/datasets/codeinstitute/cherry-leaves). When you are viewing the dataset at Kaggle, check what is after https://www.kaggle.com/ (in some cases kaggle.com/datasets). You should copy that at KaggleDatasetPath.\n",
        "* Set your destination folder."
      ]
    },
    {
      "cell_type": "markdown",
      "metadata": {
        "id": "-jg2mrz4aRQf"
      },
      "source": [
        "Set the Kaggle Dataset and Download it."
      ]
    },
    {
      "cell_type": "code",
      "execution_count": 24,
      "metadata": {
        "id": "n3u49Wn7byHA"
      },
      "outputs": [
        {
          "name": "stdout",
          "output_type": "stream",
          "text": [
            "Downloading cherry-leaves.zip to inputs/cherry_dataset\n",
            " 98%|█████████████████████████████████████▎| 54.0M/55.0M [00:01<00:00, 45.8MB/s]\n",
            "100%|██████████████████████████████████████| 55.0M/55.0M [00:01<00:00, 30.1MB/s]\n"
          ]
        }
      ],
      "source": [
        "KaggleDatasetPath = \"codeinstitute/cherry-leaves\"\n",
        "DestinationFolder = \"inputs/cherry_dataset\"   \n",
        "! kaggle datasets download -d {KaggleDatasetPath} -p {DestinationFolder}"
      ]
    },
    {
      "cell_type": "markdown",
      "metadata": {
        "id": "onuX0tVRNkB8"
      },
      "source": [
        "Unzip the downloaded file, and delete the zip file."
      ]
    },
    {
      "cell_type": "code",
      "execution_count": 25,
      "metadata": {
        "id": "4sJ4a1-RvZi9"
      },
      "outputs": [],
      "source": [
        "import zipfile\n",
        "with zipfile.ZipFile(DestinationFolder + '/cherry-leaves.zip', 'r') as zip_ref:\n",
        "    zip_ref.extractall(DestinationFolder)\n",
        "\n",
        "os.remove(DestinationFolder + '/cherry-leaves.zip')"
      ]
    },
    {
      "cell_type": "markdown",
      "metadata": {
        "id": "b5FvU5UvvZi9"
      },
      "source": [
        "---"
      ]
    },
    {
      "cell_type": "markdown",
      "metadata": {
        "id": "xKUJfg59l1TY"
      },
      "source": [
        "# Data Preparation"
      ]
    },
    {
      "cell_type": "markdown",
      "metadata": {
        "id": "wh5i_Q78vZi-"
      },
      "source": [
        "---"
      ]
    },
    {
      "cell_type": "markdown",
      "metadata": {
        "id": "plF6DoUSvZi-"
      },
      "source": [
        "## Data cleaning"
      ]
    },
    {
      "cell_type": "markdown",
      "metadata": {
        "id": "jWTIucPTvZi-"
      },
      "source": [
        "### Check and remove non-image files"
      ]
    },
    {
      "cell_type": "code",
      "execution_count": 26,
      "metadata": {
        "id": "tyxIhl1PvZi-"
      },
      "outputs": [],
      "source": [
        "def remove_non_image_file(my_data_dir):\n",
        "    image_extension = ('.png', '.jpg', '.jpeg')\n",
        "    folders = os.listdir(my_data_dir)\n",
        "    for folder in folders:\n",
        "        files = os.listdir(my_data_dir + '/' + folder)\n",
        "        # print(files)\n",
        "        i = []\n",
        "        j = []\n",
        "        for given_file in files:\n",
        "            if not given_file.lower().endswith(image_extension):\n",
        "                file_location = my_data_dir + '/' + folder + '/' + given_file\n",
        "                os.remove(file_location)  # remove non image file\n",
        "                i.append(1)\n",
        "            else:\n",
        "                j.append(1)\n",
        "                pass\n",
        "        print(f\"Folder: {folder} - has image file\", len(j))\n",
        "        print(f\"Folder: {folder} - has non-image file\", len(i))\n"
      ]
    },
    {
      "cell_type": "code",
      "execution_count": 27,
      "metadata": {
        "id": "r7GhG4y2vZi_"
      },
      "outputs": [
        {
          "name": "stdout",
          "output_type": "stream",
          "text": [
            "Folder: healthy - has image file 2104\n",
            "Folder: healthy - has non-image file 0\n",
            "Folder: powdery_mildew - has image file 2104\n",
            "Folder: powdery_mildew - has non-image file 0\n"
          ]
        }
      ],
      "source": [
        "remove_non_image_file(my_data_dir='inputs/cherry_dataset/cherry-leaves')"
      ]
    },
    {
      "cell_type": "markdown",
      "metadata": {
        "id": "Zo5HyvEZgUZC"
      },
      "source": [
        "## Split train validation test set"
      ]
    },
    {
      "cell_type": "code",
      "execution_count": 15,
      "metadata": {
        "id": "Qoz1ZU_EgKDu"
      },
      "outputs": [],
      "source": [
        "import os\n",
        "import shutil\n",
        "import random\n",
        "import joblib\n",
        "\n",
        "\n",
        "def split_train_validation_test_images(my_data_dir, train_set_ratio, validation_set_ratio, test_set_ratio):\n",
        "\n",
        "    if train_set_ratio + validation_set_ratio + test_set_ratio != 1.0:\n",
        "        print(\"train_set_ratio + validation_set_ratio + test_set_ratio should sum to 1.0\")\n",
        "        return\n",
        "\n",
        "    # gets classes labels\n",
        "    labels = os.listdir(my_data_dir)  # it should get only the folder name\n",
        "    if 'test' in labels:\n",
        "        pass\n",
        "    else:\n",
        "        # create train, test folders with classes labels sub-folder\n",
        "        for folder in ['train', 'validation', 'test']:\n",
        "            for label in labels:\n",
        "                os.makedirs(name=my_data_dir + '/' + folder + '/' + label)\n",
        "\n",
        "        for label in labels:\n",
        "\n",
        "            files = os.listdir(my_data_dir + '/' + label)\n",
        "            random.shuffle(files)\n",
        "\n",
        "            train_set_files_qty = int(len(files) * train_set_ratio)\n",
        "            validation_set_files_qty = int(len(files) * validation_set_ratio)\n",
        "\n",
        "            count = 1\n",
        "            for file_name in files:\n",
        "                if count <= train_set_files_qty:\n",
        "                    # move a given file to the train set\n",
        "                    shutil.move(my_data_dir + '/' + label + '/' + file_name,\n",
        "                                my_data_dir + '/train/' + label + '/' + file_name)\n",
        "\n",
        "                elif count <= (train_set_files_qty + validation_set_files_qty):\n",
        "                    # move a given file to the validation set\n",
        "                    shutil.move(my_data_dir + '/' + label + '/' + file_name,\n",
        "                                my_data_dir + '/validation/' + label + '/' + file_name)\n",
        "\n",
        "                else:\n",
        "                    # move given file to test set\n",
        "                    shutil.move(my_data_dir + '/' + label + '/' + file_name,\n",
        "                                my_data_dir + '/test/' + label + '/' + file_name)\n",
        "\n",
        "                count += 1\n",
        "\n",
        "            os.rmdir(my_data_dir + '/' + label)\n"
      ]
    },
    {
      "cell_type": "markdown",
      "metadata": {
        "id": "74_6OZMWgYIP"
      },
      "source": [
        "Conventionally,\n",
        "* The training set is divided into a 0.70 ratio of data.\n",
        "* The validation set is divided into a 0.10 ratio of data.\n",
        "* The test set is divided into a 0.20 ratio of data."
      ]
    },
    {
      "cell_type": "code",
      "execution_count": 16,
      "metadata": {
        "id": "24e-HbOdgYO1"
      },
      "outputs": [],
      "source": [
        "split_train_validation_test_images(my_data_dir=f\"inputs/cherry_dataset/cherry-leaves\",\n",
        "                                   train_set_ratio=0.7,\n",
        "                                   validation_set_ratio=0.1,\n",
        "                                   test_set_ratio=0.2\n",
        "                                   )\n"
      ]
    },
    {
      "cell_type": "markdown",
      "metadata": {
        "id": "ctcuyZrmhKYo"
      },
      "source": [
        "---"
      ]
    },
    {
      "cell_type": "markdown",
      "metadata": {
        "id": "3v3qKCNDvZjB"
      },
      "source": [
        "# Congratulations"
      ]
    },
    {
      "cell_type": "markdown",
      "metadata": {
        "id": "_tdAGw4Zwssu"
      },
      "source": [
        "---"
      ]
    }
  ],
  "metadata": {
    "accelerator": "GPU",
    "colab": {
      "name": "01 - DataCollection.ipynb",
      "provenance": []
    },
    "kernelspec": {
      "display_name": "Python 3.8.13 64-bit ('3.8.13')",
      "language": "python",
      "name": "python3"
    },
    "language_info": {
      "codemirror_mode": {
        "name": "ipython",
        "version": 3
      },
      "file_extension": ".py",
      "mimetype": "text/x-python",
      "name": "python",
      "nbconvert_exporter": "python",
      "pygments_lexer": "ipython3",
      "version": "3.8.12"
    },
    "vscode": {
      "interpreter": {
        "hash": "110cc1dee26208153f2972f08a2ad52b6a56238dc66d48e87fb757ef2996db56"
      }
    }
  },
  "nbformat": 4,
  "nbformat_minor": 0
}
